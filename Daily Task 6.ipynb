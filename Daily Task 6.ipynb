{
 "cells": [
  {
   "cell_type": "markdown",
   "id": "42c600b5-18df-40cd-bddd-4400969796ab",
   "metadata": {},
   "source": [
    "# Lambda Function with filter and map"
   ]
  },
  {
   "cell_type": "code",
   "execution_count": 2,
   "id": "57283a3a-d4c2-46f3-bdeb-fdca7db01a89",
   "metadata": {},
   "outputs": [
    {
     "name": "stdout",
     "output_type": "stream",
     "text": [
      "[90, 59, 21, 60]\n"
     ]
    }
   ],
   "source": [
    "ages = [13, 90, 17, 59, 21, 60, 5]\n",
    " \n",
    "adults = list(filter(lambda age: age > 18, ages))\n",
    " \n",
    "print(adults)"
   ]
  },
  {
   "cell_type": "code",
   "execution_count": 3,
   "id": "714274f1-ced9-4fbd-b23a-41a7c399ee2a",
   "metadata": {},
   "outputs": [
    {
     "name": "stdout",
     "output_type": "stream",
     "text": [
      "['DOG', 'CAT', 'PARROT', 'RABBIT']\n"
     ]
    }
   ],
   "source": [
    "animals = ['dog', 'cat', 'parrot', 'rabbit']\n",
    "\n",
    "upper_animals = list(map(lambda animal: animal.upper(), animals))\n",
    "\n",
    "print(upper_animals)\n"
   ]
  },
  {
   "cell_type": "code",
   "execution_count": 12,
   "id": "79aa3946-75ac-47b1-b259-d8e609d3d9b3",
   "metadata": {},
   "outputs": [
    {
     "name": "stdout",
     "output_type": "stream",
     "text": [
      "['S1000RR']\n"
     ]
    }
   ],
   "source": [
    "bikes = [\"rx100\", \"rs 200\", \"H2R\", \"vitpelin\", \"S1000RR\", \"RR 310\"]\n",
    "\n",
    "filter_name = list(filter(lambda name: name.startswith('S'), bikes))\n",
    "\n",
    "print(filter_name)"
   ]
  },
  {
   "cell_type": "code",
   "execution_count": 13,
   "id": "49d243ee-0aa0-4295-aba9-c4b302c2ae71",
   "metadata": {},
   "outputs": [
    {
     "name": "stdout",
     "output_type": "stream",
     "text": [
      "[32.0, 50.0, 68.0, 86.0, 104.0]\n"
     ]
    }
   ],
   "source": [
    "celsius_temps = [0, 10, 20, 30, 40]\n",
    "fahrenheit_temps = list(map(lambda c: (c * 9/5) + 32, celsius_temps))\n",
    "print(fahrenheit_temps)"
   ]
  },
  {
   "cell_type": "markdown",
   "id": "b90111f5-fe32-4d21-9caa-009c7ec386c2",
   "metadata": {},
   "source": [
    "## Definition and Usage\n",
    "-  The query() method allows you to query the DataFrame.\n",
    "\n",
    "-  The query() method takes a query expression as a string parameter, which has to evaluate to either True of False.\n",
    "\n",
    "-  It returns the DataFrame where the result is True according to the query expression."
   ]
  },
  {
   "cell_type": "markdown",
   "id": "ebd205b2-f040-47ad-bb05-14ae5cb525fd",
   "metadata": {},
   "source": [
    "## syntax\n",
    "-  dataframe.query(expr, inplace)"
   ]
  },
  {
   "cell_type": "markdown",
   "id": "fddbeac9-aa61-4953-94ac-c4c4fd76395e",
   "metadata": {},
   "source": [
    "## Parameters:\n",
    "\n",
    "-  expr: Expression in string form to filter data.\n",
    "-  inplace: Make changes in the original data frame if True\n",
    "-  kwargs: Other keyword arguments.\n",
    "-  Return type: Filtered Data frame"
   ]
  },
  {
   "cell_type": "code",
   "execution_count": 3,
   "id": "ca344d33-6bd4-426d-bb9f-f2fd053d9e4c",
   "metadata": {},
   "outputs": [],
   "source": [
    "import pandas as pd\n",
    "employee_data = pd.read_csv(\"employees.csv\")"
   ]
  },
  {
   "cell_type": "code",
   "execution_count": 4,
   "id": "c1d66c72-bdc0-4310-9793-56f8dd611d20",
   "metadata": {},
   "outputs": [
    {
     "data": {
      "text/html": [
       "<div>\n",
       "<style scoped>\n",
       "    .dataframe tbody tr th:only-of-type {\n",
       "        vertical-align: middle;\n",
       "    }\n",
       "\n",
       "    .dataframe tbody tr th {\n",
       "        vertical-align: top;\n",
       "    }\n",
       "\n",
       "    .dataframe thead th {\n",
       "        text-align: right;\n",
       "    }\n",
       "</style>\n",
       "<table border=\"1\" class=\"dataframe\">\n",
       "  <thead>\n",
       "    <tr style=\"text-align: right;\">\n",
       "      <th></th>\n",
       "      <th>First Name</th>\n",
       "      <th>Gender</th>\n",
       "      <th>Start Date</th>\n",
       "      <th>Last Login Time</th>\n",
       "      <th>Salary</th>\n",
       "      <th>Bonus %</th>\n",
       "      <th>Senior Management</th>\n",
       "      <th>Team</th>\n",
       "    </tr>\n",
       "  </thead>\n",
       "  <tbody>\n",
       "    <tr>\n",
       "      <th>0</th>\n",
       "      <td>Douglas</td>\n",
       "      <td>Male</td>\n",
       "      <td>8/6/1993</td>\n",
       "      <td>12:42 PM</td>\n",
       "      <td>97308</td>\n",
       "      <td>6.945</td>\n",
       "      <td>True</td>\n",
       "      <td>Marketing</td>\n",
       "    </tr>\n",
       "    <tr>\n",
       "      <th>1</th>\n",
       "      <td>Thomas</td>\n",
       "      <td>Male</td>\n",
       "      <td>3/31/1996</td>\n",
       "      <td>6:53 AM</td>\n",
       "      <td>61933</td>\n",
       "      <td>4.170</td>\n",
       "      <td>True</td>\n",
       "      <td>NaN</td>\n",
       "    </tr>\n",
       "    <tr>\n",
       "      <th>2</th>\n",
       "      <td>Maria</td>\n",
       "      <td>Female</td>\n",
       "      <td>4/23/1993</td>\n",
       "      <td>11:17 AM</td>\n",
       "      <td>130590</td>\n",
       "      <td>11.858</td>\n",
       "      <td>False</td>\n",
       "      <td>Finance</td>\n",
       "    </tr>\n",
       "    <tr>\n",
       "      <th>3</th>\n",
       "      <td>Jerry</td>\n",
       "      <td>Male</td>\n",
       "      <td>3/4/2005</td>\n",
       "      <td>1:00 PM</td>\n",
       "      <td>138705</td>\n",
       "      <td>9.340</td>\n",
       "      <td>True</td>\n",
       "      <td>Finance</td>\n",
       "    </tr>\n",
       "    <tr>\n",
       "      <th>4</th>\n",
       "      <td>Larry</td>\n",
       "      <td>Male</td>\n",
       "      <td>1/24/1998</td>\n",
       "      <td>4:47 PM</td>\n",
       "      <td>101004</td>\n",
       "      <td>1.389</td>\n",
       "      <td>True</td>\n",
       "      <td>Client Services</td>\n",
       "    </tr>\n",
       "    <tr>\n",
       "      <th>...</th>\n",
       "      <td>...</td>\n",
       "      <td>...</td>\n",
       "      <td>...</td>\n",
       "      <td>...</td>\n",
       "      <td>...</td>\n",
       "      <td>...</td>\n",
       "      <td>...</td>\n",
       "      <td>...</td>\n",
       "    </tr>\n",
       "    <tr>\n",
       "      <th>995</th>\n",
       "      <td>Henry</td>\n",
       "      <td>NaN</td>\n",
       "      <td>11/23/2014</td>\n",
       "      <td>6:09 AM</td>\n",
       "      <td>132483</td>\n",
       "      <td>16.655</td>\n",
       "      <td>False</td>\n",
       "      <td>Distribution</td>\n",
       "    </tr>\n",
       "    <tr>\n",
       "      <th>996</th>\n",
       "      <td>Phillip</td>\n",
       "      <td>Male</td>\n",
       "      <td>1/31/1984</td>\n",
       "      <td>6:30 AM</td>\n",
       "      <td>42392</td>\n",
       "      <td>19.675</td>\n",
       "      <td>False</td>\n",
       "      <td>Finance</td>\n",
       "    </tr>\n",
       "    <tr>\n",
       "      <th>997</th>\n",
       "      <td>Russell</td>\n",
       "      <td>Male</td>\n",
       "      <td>5/20/2013</td>\n",
       "      <td>12:39 PM</td>\n",
       "      <td>96914</td>\n",
       "      <td>1.421</td>\n",
       "      <td>False</td>\n",
       "      <td>Product</td>\n",
       "    </tr>\n",
       "    <tr>\n",
       "      <th>998</th>\n",
       "      <td>Larry</td>\n",
       "      <td>Male</td>\n",
       "      <td>4/20/2013</td>\n",
       "      <td>4:45 PM</td>\n",
       "      <td>60500</td>\n",
       "      <td>11.985</td>\n",
       "      <td>False</td>\n",
       "      <td>Business Development</td>\n",
       "    </tr>\n",
       "    <tr>\n",
       "      <th>999</th>\n",
       "      <td>Albert</td>\n",
       "      <td>Male</td>\n",
       "      <td>5/15/2012</td>\n",
       "      <td>6:24 PM</td>\n",
       "      <td>129949</td>\n",
       "      <td>10.169</td>\n",
       "      <td>True</td>\n",
       "      <td>Sales</td>\n",
       "    </tr>\n",
       "  </tbody>\n",
       "</table>\n",
       "<p>1000 rows × 8 columns</p>\n",
       "</div>"
      ],
      "text/plain": [
       "    First Name  Gender  Start Date Last Login Time  Salary  Bonus %  \\\n",
       "0      Douglas    Male    8/6/1993        12:42 PM   97308    6.945   \n",
       "1       Thomas    Male   3/31/1996         6:53 AM   61933    4.170   \n",
       "2        Maria  Female   4/23/1993        11:17 AM  130590   11.858   \n",
       "3        Jerry    Male    3/4/2005         1:00 PM  138705    9.340   \n",
       "4        Larry    Male   1/24/1998         4:47 PM  101004    1.389   \n",
       "..         ...     ...         ...             ...     ...      ...   \n",
       "995      Henry     NaN  11/23/2014         6:09 AM  132483   16.655   \n",
       "996    Phillip    Male   1/31/1984         6:30 AM   42392   19.675   \n",
       "997    Russell    Male   5/20/2013        12:39 PM   96914    1.421   \n",
       "998      Larry    Male   4/20/2013         4:45 PM   60500   11.985   \n",
       "999     Albert    Male   5/15/2012         6:24 PM  129949   10.169   \n",
       "\n",
       "    Senior Management                  Team  \n",
       "0                True             Marketing  \n",
       "1                True                   NaN  \n",
       "2               False               Finance  \n",
       "3                True               Finance  \n",
       "4                True       Client Services  \n",
       "..                ...                   ...  \n",
       "995             False          Distribution  \n",
       "996             False               Finance  \n",
       "997             False               Product  \n",
       "998             False  Business Development  \n",
       "999              True                 Sales  \n",
       "\n",
       "[1000 rows x 8 columns]"
      ]
     },
     "execution_count": 4,
     "metadata": {},
     "output_type": "execute_result"
    }
   ],
   "source": [
    "employee_data"
   ]
  },
  {
   "cell_type": "code",
   "execution_count": 17,
   "id": "e6d21958-ae36-4447-881b-54bc45050c8c",
   "metadata": {},
   "outputs": [],
   "source": [
    "import pandas as pd\n",
    "employee_data = pd.read_csv(\"employees.csv\")\n",
    "employee_data.columns = [column.replace(\" \", \"_\") for column in employee_data.columns] \n",
    "employee_data.query('Senior_Management == True and First_Name == \"Johnny\"', inplace=True) "
   ]
  },
  {
   "cell_type": "code",
   "execution_count": 18,
   "id": "170c79e5-28d0-48b1-aba8-a55b4aa97bbc",
   "metadata": {},
   "outputs": [
    {
     "data": {
      "text/html": [
       "<div>\n",
       "<style scoped>\n",
       "    .dataframe tbody tr th:only-of-type {\n",
       "        vertical-align: middle;\n",
       "    }\n",
       "\n",
       "    .dataframe tbody tr th {\n",
       "        vertical-align: top;\n",
       "    }\n",
       "\n",
       "    .dataframe thead th {\n",
       "        text-align: right;\n",
       "    }\n",
       "</style>\n",
       "<table border=\"1\" class=\"dataframe\">\n",
       "  <thead>\n",
       "    <tr style=\"text-align: right;\">\n",
       "      <th></th>\n",
       "      <th>First_Name</th>\n",
       "      <th>Gender</th>\n",
       "      <th>Start_Date</th>\n",
       "      <th>Last_Login_Time</th>\n",
       "      <th>Salary</th>\n",
       "      <th>Bonus_%</th>\n",
       "      <th>Senior_Management</th>\n",
       "      <th>Team</th>\n",
       "    </tr>\n",
       "  </thead>\n",
       "  <tbody>\n",
       "    <tr>\n",
       "      <th>71</th>\n",
       "      <td>Johnny</td>\n",
       "      <td>Male</td>\n",
       "      <td>11/6/2009</td>\n",
       "      <td>4:23 PM</td>\n",
       "      <td>118172</td>\n",
       "      <td>16.194</td>\n",
       "      <td>True</td>\n",
       "      <td>Sales</td>\n",
       "    </tr>\n",
       "    <tr>\n",
       "      <th>413</th>\n",
       "      <td>Johnny</td>\n",
       "      <td>Male</td>\n",
       "      <td>9/14/1992</td>\n",
       "      <td>8:21 AM</td>\n",
       "      <td>115194</td>\n",
       "      <td>5.861</td>\n",
       "      <td>True</td>\n",
       "      <td>Marketing</td>\n",
       "    </tr>\n",
       "    <tr>\n",
       "      <th>496</th>\n",
       "      <td>Johnny</td>\n",
       "      <td>Male</td>\n",
       "      <td>2/26/2016</td>\n",
       "      <td>7:39 PM</td>\n",
       "      <td>76394</td>\n",
       "      <td>5.437</td>\n",
       "      <td>True</td>\n",
       "      <td>Marketing</td>\n",
       "    </tr>\n",
       "    <tr>\n",
       "      <th>566</th>\n",
       "      <td>Johnny</td>\n",
       "      <td>Male</td>\n",
       "      <td>1/8/1995</td>\n",
       "      <td>1:35 PM</td>\n",
       "      <td>91124</td>\n",
       "      <td>12.986</td>\n",
       "      <td>True</td>\n",
       "      <td>Distribution</td>\n",
       "    </tr>\n",
       "    <tr>\n",
       "      <th>829</th>\n",
       "      <td>Johnny</td>\n",
       "      <td>Male</td>\n",
       "      <td>1/14/2007</td>\n",
       "      <td>2:54 PM</td>\n",
       "      <td>71383</td>\n",
       "      <td>2.097</td>\n",
       "      <td>True</td>\n",
       "      <td>Human Resources</td>\n",
       "    </tr>\n",
       "  </tbody>\n",
       "</table>\n",
       "</div>"
      ],
      "text/plain": [
       "    First_Name Gender Start_Date Last_Login_Time  Salary  Bonus_%  \\\n",
       "71      Johnny   Male  11/6/2009         4:23 PM  118172   16.194   \n",
       "413     Johnny   Male  9/14/1992         8:21 AM  115194    5.861   \n",
       "496     Johnny   Male  2/26/2016         7:39 PM   76394    5.437   \n",
       "566     Johnny   Male   1/8/1995         1:35 PM   91124   12.986   \n",
       "829     Johnny   Male  1/14/2007         2:54 PM   71383    2.097   \n",
       "\n",
       "    Senior_Management             Team  \n",
       "71               True            Sales  \n",
       "413              True        Marketing  \n",
       "496              True        Marketing  \n",
       "566              True     Distribution  \n",
       "829              True  Human Resources  "
      ]
     },
     "execution_count": 18,
     "metadata": {},
     "output_type": "execute_result"
    }
   ],
   "source": [
    "employee_data"
   ]
  },
  {
   "cell_type": "code",
   "execution_count": null,
   "id": "f0207486-078a-446d-a023-fd0be2bc05fe",
   "metadata": {},
   "outputs": [],
   "source": []
  }
 ],
 "metadata": {
  "kernelspec": {
   "display_name": "Python 3 (ipykernel)",
   "language": "python",
   "name": "python3"
  },
  "language_info": {
   "codemirror_mode": {
    "name": "ipython",
    "version": 3
   },
   "file_extension": ".py",
   "mimetype": "text/x-python",
   "name": "python",
   "nbconvert_exporter": "python",
   "pygments_lexer": "ipython3",
   "version": "3.12.0"
  }
 },
 "nbformat": 4,
 "nbformat_minor": 5
}
